{
 "cells": [
  {
   "cell_type": "markdown",
   "id": "9c5f6efc770f8ae6",
   "metadata": {
    "collapsed": false
   },
   "source": [
    "# &#128214; Lab 9: Interprocedural Analysis"
   ]
  },
  {
   "cell_type": "markdown",
   "id": "3284e8dfd79c0a54",
   "metadata": {
    "collapsed": false
   },
   "source": [
    "## &#128214; Exercise 1: Simple Interprocedural Analysis\n",
    "\n",
    "### &#127919; Objective\n",
    "\n",
    "Expand your static taint analysis to include interprocedural data flows. Learn to design an analysis that can trace taints across function boundaries. Apply these concepts to complex examples to identify potential sensitive data leaks.\n",
    "\n",
    "### &#128214; Background\n",
    "\n",
    "Building upon previous taint analysis knowledge, interprocedural analysis allows us to analyze how data flows across different functions and method calls.\n",
    "\n",
    "### &#10145; Tasks\n",
    "\n",
    "#### Task 1: Interprocedural Taint Analysis\n",
    "\n",
    "**Extend Taint Analysis for Interprocedural Data Flows:**\n",
    "   - Enhance your taint analysis to track data as it moves from one function to another."
   ]
  },
  {
   "cell_type": "markdown",
   "source": [
    "### Import the necessary library\n",
    "\n",
    "&#128161; *In the following cell, we will import the library needed for this exercise:*\n",
    "- `ast`: a module of the python standard library to transform Python code in its AST representation\n",
    "- `abc`: a module to implement abstract methods in Python\n",
    "- `graphviz`: a library to create directed graphs"
   ],
   "metadata": {
    "collapsed": false
   },
   "id": "ec6963757b989c5"
  },
  {
   "cell_type": "code",
   "execution_count": null,
   "outputs": [],
   "source": [
    "import ast\n",
    "from abc import ABC, abstractmethod\n",
    "import graphviz"
   ],
   "metadata": {
    "collapsed": false
   },
   "id": "9f83f1a1360ceefd"
  },
  {
   "cell_type": "markdown",
   "source": [
    "Python code\n",
    "\n",
    "&#128161; The following cell contains a string that represents the Python code that will be analyzed through this exercise"
   ],
   "metadata": {
    "collapsed": false
   },
   "id": "59de7a3c534ba7fa"
  },
  {
   "cell_type": "code",
   "execution_count": null,
   "outputs": [],
   "source": [
    "code = \"\"\"\n",
    "def bridge(data):\n",
    "    leak_sensitive_data(data)\n",
    "\n",
    "a = get_password()\n",
    "bridge(a)\n",
    "\n",
    "\n",
    "b = get_password()\n",
    "bridge(b)\n",
    "\"\"\""
   ],
   "metadata": {
    "collapsed": false
   },
   "id": "8360dcd1227cada7"
  },
  {
   "cell_type": "markdown",
   "source": [
    "### Utility Control Flow Graph class\n",
    "\n",
    "&#128161; The following cell contains a utility class to build a Control Glow Graph. \n",
    "You have to use this class to build the control flow graph, as in previous labs."
   ],
   "metadata": {
    "collapsed": false
   },
   "id": "d63cb7c78ebe73c3"
  },
  {
   "cell_type": "code",
   "execution_count": null,
   "outputs": [],
   "source": [
    "class ControlFlowGraph:\n",
    "    \"\"\"\n",
    "    A class representing a Control Flow Graph (CFG).\n",
    "\n",
    "    Attributes:\n",
    "    nodes: A list where each element is a statement.\n",
    "    edges: A list of tuples representing edges between nodes, where each tuple contains a pair of nodes.\n",
    "\n",
    "    Methods:\n",
    "    add_node:\n",
    "        Adds a new node with the given statement to the graph, returning the new node.\n",
    "    add_edge:\n",
    "        Adds an edge between the specified node indices to the graph.\n",
    "    visualize:\n",
    "        Prints a visualization of the graph to the console.\n",
    "    to_dot:\n",
    "        Returns a DOT-format string representing the graph.\n",
    "    \"\"\"\n",
    "\n",
    "    def __init__(self):\n",
    "        \"\"\"\n",
    "        Initializes a new instance of the ControlFlowGraph class, with empty nodes and edges.\n",
    "        \"\"\"\n",
    "        self.nodes = []\n",
    "        self.edges = []\n",
    "\n",
    "    def add_node(self, statement):\n",
    "        \"\"\"\n",
    "        Adds a new node with the given statement to the graph.\n",
    "\n",
    "        Parameters:\n",
    "        statement: The statement associated with the new node.\n",
    "\n",
    "        Returns:\n",
    "        The node\n",
    "        \"\"\"\n",
    "        self.nodes.append(statement)\n",
    "        return statement\n",
    "\n",
    "    def add_edge(self, node1, node2):\n",
    "        \"\"\"\n",
    "        Adds an edge between the specified nodes to the graph.\n",
    "\n",
    "        Parameters:\n",
    "        node1: The source node.\n",
    "        node2: The target node.\n",
    "        \"\"\"\n",
    "        if (node1, node2) not in self.edges:\n",
    "            self.edges.append((node1, node2))\n",
    "\n",
    "    def visualize(self):\n",
    "        \"\"\"\n",
    "        Prints a visualization of the graph to the console.\n",
    "        Each edge is printed as a line in the format 'source -> target'.\n",
    "        \"\"\"\n",
    "        for node in self.nodes:\n",
    "            node_has_edges = False\n",
    "            for (source, target) in self.edges:\n",
    "                if node == source:\n",
    "                    print(f'{source} -> {target}')\n",
    "                    node_has_edges = True\n",
    "            if not node_has_edges:\n",
    "                print(f'{node}')\n",
    "                    \n",
    "\n",
    "    def to_dot(self):\n",
    "        \"\"\"\n",
    "        Returns a DOT-format string representing the graph (for vizualization purposes).\n",
    "\n",
    "        Returns:\n",
    "        str: A string in DOT format.\n",
    "        \"\"\"\n",
    "        dot_lines = ['digraph cfg {']\n",
    "        stmt_to_index = {}\n",
    "        for index, statement in enumerate(self.nodes):\n",
    "            stmt_to_index[statement] = index\n",
    "            dot_lines.append(f'    node{index} [label=\"{statement}\"];')\n",
    "        for edge in self.edges:\n",
    "            source, target = edge\n",
    "            dot_lines.append(f'    node{stmt_to_index[source]} -> node{stmt_to_index[target]};')\n",
    "        dot_lines.append('}')\n",
    "        return '\\n'.join(dot_lines)"
   ],
   "metadata": {
    "collapsed": false
   },
   "id": "336774f673068489"
  },
  {
   "cell_type": "markdown",
   "source": [
    "### Function to create the CFG\n",
    "\n",
    "&#128161; In the following cell, you will use the `build_cfg` function of the previous lab."
   ],
   "metadata": {
    "collapsed": false
   },
   "id": "f6e807676139707a"
  },
  {
   "cell_type": "code",
   "execution_count": null,
   "outputs": [],
   "source": [
    "def build_cfg(node, cfg, parent=None):\n",
    "    \"\"\"\n",
    "    Recursively builds a Control Flow Graph (CFG) from an Abstract Syntax Tree (AST) node, considering various types of statements including assignment, expression, conditional, loop, and module level statements.\n",
    "\n",
    "    Parameters:\n",
    "    node: The current node in the AST.\n",
    "    cfg: An instance of ControlFlowGraph to which nodes and edges will be added.\n",
    "    parent: A list of parent nodes from which edges to the current node will be drawn. \n",
    "    \n",
    "    Returns:\n",
    "    list: A list of current nodes which will act as parents for the next level of recursion.\n",
    "    \"\"\"\n",
    "    current_nodes = []\n",
    "    current_node = None\n",
    "    \n",
    "    if isinstance(node, ast.Assign):\n",
    "        current_node = cfg.add_node(node)\n",
    "        current_nodes.append(current_node)\n",
    "    elif isinstance(node, ast.Expr) and isinstance(node.value, ast.Call):\n",
    "        current_node = cfg.add_node(node)\n",
    "        current_nodes.append(current_node)\n",
    "    elif isinstance(node, ast.If):\n",
    "        current_node = cfg.add_node(node)\n",
    "        if parent is not None:\n",
    "            for p in parent:\n",
    "                cfg.add_edge(p, current_node)\n",
    "        last_body_nodes = [current_node]\n",
    "        for statement in node.body:\n",
    "            last_body_nodes = build_cfg(statement, cfg, last_body_nodes)\n",
    "        last_orelse_nodes = [current_node]\n",
    "        for statement in node.orelse:\n",
    "            last_orelse_nodes = build_cfg(statement, cfg, last_orelse_nodes)\n",
    "        current_nodes.extend(last_body_nodes)\n",
    "        current_nodes.extend(last_orelse_nodes)\n",
    "    elif isinstance(node, ast.Module):\n",
    "        entry_node = cfg.add_node('Entry')\n",
    "        last_nodes = [entry_node]\n",
    "        for statement in node.body:\n",
    "            if last_nodes and len(last_nodes) > 0:\n",
    "                last_nodes = build_cfg(statement, cfg, last_nodes)\n",
    "            else:\n",
    "                last_nodes = build_cfg(statement, cfg, [entry_node])\n",
    "        return last_nodes\n",
    "    elif isinstance(node, ast.While):\n",
    "        current_node = cfg.add_node(node)\n",
    "        if parent is not None:\n",
    "            for p in parent:\n",
    "                cfg.add_edge(p, current_node)\n",
    "        last_body_nodes = [current_node]\n",
    "        for statement in node.body:\n",
    "            last_body_nodes = build_cfg(statement, cfg, last_body_nodes)\n",
    "        for last_body_node in last_body_nodes:\n",
    "            cfg.add_edge(last_body_node, current_node)\n",
    "        current_nodes.extend([current_node])\n",
    "    elif isinstance(node, ast.For):\n",
    "        current_node = cfg.add_node(node)\n",
    "        if parent is not None:\n",
    "            for p in parent:\n",
    "                cfg.add_edge(p, current_node)\n",
    "        last_body_nodes = [current_node]\n",
    "        for statement in node.body:\n",
    "            last_body_nodes = build_cfg(statement, cfg, last_body_nodes)\n",
    "        for last_body_node in last_body_nodes:\n",
    "            cfg.add_edge(last_body_node, current_node)\n",
    "        current_nodes.extend([current_node])\n",
    "        \n",
    "    if parent is not None:\n",
    "        for p in parent:\n",
    "            if current_node is not None:\n",
    "                cfg.add_edge(p, current_node)\n",
    "    \n",
    "    return current_nodes \n"
   ],
   "metadata": {
    "collapsed": false
   },
   "id": "af7ada288286b1"
  },
  {
   "cell_type": "markdown",
   "source": [
    "### Build the CFG\n",
    "\n",
    "&#128161; In the following cell, you will build the CFG as in previous labs"
   ],
   "metadata": {
    "collapsed": false
   },
   "id": "749f4e4a9a48db17"
  },
  {
   "cell_type": "code",
   "execution_count": null,
   "outputs": [],
   "source": [],
   "metadata": {
    "collapsed": false
   },
   "id": "1be0cc78403d4d28"
  },
  {
   "cell_type": "markdown",
   "source": [
    "### Build the CG\n",
    "\n",
    "&#128161; In the following cells, you will reuse the code of Lab 7 and build the call graph of the program"
   ],
   "metadata": {
    "collapsed": false
   },
   "id": "5b028509bad1c7f0"
  },
  {
   "cell_type": "code",
   "execution_count": null,
   "outputs": [],
   "source": [
    "class CallGraph:\n",
    "    \"\"\"A class to represent a call graph.\"\"\"\n",
    "    \n",
    "    def __init__(self):\n",
    "        \"\"\"Initializes an empty call graph.\"\"\"\n",
    "        self.graph = {}\n",
    "    \n",
    "    def add_edge(self, caller, callee):\n",
    "        \"\"\"\n",
    "        Adds an edge from caller to callee in the graph.\n",
    "        \n",
    "        Parameters:\n",
    "        caller: The caller function.\n",
    "        callee: The callee function.\n",
    "        \"\"\"\n",
    "        self.graph.setdefault(caller, set()).add(callee)\n",
    "    \n",
    "    def visualize(self):\n",
    "        \"\"\"Visualizes the call graph.\"\"\"\n",
    "        for caller, callees in self.graph.items():\n",
    "            for callee in callees:\n",
    "                print(f'{caller} -> {callee}')\n",
    "        \n",
    "                \n",
    "    def to_dot(self):\n",
    "        \"\"\"\n",
    "        Converts the call graph to a dot representation.\n",
    "        \n",
    "        Returns:\n",
    "        str: The dot representation of the call graph.\n",
    "        \"\"\"\n",
    "        dot_lines = [\"digraph CallGraph {\"]\n",
    "        for caller, callees in self.graph.items():\n",
    "            for callee in callees:\n",
    "                dot_lines.append(f'    \"{caller}\" -> \"{callee}\";')\n",
    "        dot_lines.append(\"}\")\n",
    "        return '\\n'.join(dot_lines)\n",
    "\n"
   ],
   "metadata": {
    "collapsed": false
   },
   "id": "c6db1d55b5a4f7e8"
  },
  {
   "cell_type": "code",
   "execution_count": null,
   "outputs": [],
   "source": [
    "class CallGraphBuilder(ast.NodeVisitor):\n",
    "    def __init__(self, points_to_set):\n",
    "        self.call_graph = CallGraph()\n",
    "        self.points_to_set = points_to_set\n"
   ],
   "metadata": {
    "collapsed": false
   },
   "id": "5c60780add0c6138"
  },
  {
   "cell_type": "code",
   "execution_count": null,
   "outputs": [],
   "source": [
    "class ClassFunctionAnalyzer(ast.NodeVisitor):\n",
    "    \"\"\"\n",
    "    A node visitor class that walks through the Abstract Syntax Tree (AST) to identify and record all class and function definitions within the code.\n",
    "\n",
    "    Attributes:\n",
    "    classes: A set to store unique class names encountered in the AST.\n",
    "    functions: A set to store unique function names encountered in the AST.\n",
    "    \"\"\"\n",
    "    def __init__(self):\n",
    "        self.classes = set()\n",
    "        self.functions = set()\n",
    "\n",
    "    def visit_ClassDef(self, node):\n",
    "        \"\"\"\n",
    "        Visits a class definition node, adding the class name to the classes set.\n",
    "\n",
    "        Parameters:\n",
    "        node: The class definition node being visited.\n",
    "        \"\"\"\n",
    "        self.classes.add(node.name)\n",
    "        self.generic_visit(node)\n",
    "\n",
    "    def visit_FunctionDef(self, node):\n",
    "        \"\"\"\n",
    "        Visits a function definition node, adding the function name to the functions set.\n",
    "\n",
    "        Parameters:\n",
    "        node: The function definition node being visited.\n",
    "        \"\"\"\n",
    "        self.functions.add(node.name)\n",
    "        self.generic_visit(node)\n",
    "        \n",
    "    def get_call_type(self, name):\n",
    "        \"\"\"\n",
    "        Determines whether a given name corresponds to a class instantiation or a function call.\n",
    "\n",
    "        Parameters:\n",
    "        name: The name of the function or class.\n",
    "\n",
    "        Returns:\n",
    "        str: \"class\" if the name corresponds to a class, \"function\" if it corresponds to a function, or \"unknown\" otherwise.\n",
    "        \"\"\"\n",
    "        if name in self.classes:\n",
    "            return \"class\"\n",
    "        elif name in self.functions:\n",
    "            return \"function\"\n",
    "        else:\n",
    "            return \"unknown\""
   ],
   "metadata": {
    "collapsed": false
   },
   "id": "5528a3fa48d86aa2"
  },
  {
   "cell_type": "code",
   "execution_count": null,
   "outputs": [],
   "source": [
    "def build_points_to_set(node, analyzer):\n",
    "    \"\"\"\n",
    "    Analyzes an AST to gather information about potential class instantiations and method calls.\n",
    "    \n",
    "    Parameters:\n",
    "    node: The root node of the AST.\n",
    "    analyzer: An instance of ClassFunctionAnalyzer.\n",
    "    \n",
    "    Returns:\n",
    "    dict: The points-to set.\n",
    "    \"\"\""
   ],
   "metadata": {
    "collapsed": false
   },
   "id": "c8a4e1de8b9d79a0"
  },
  {
   "cell_type": "code",
   "execution_count": null,
   "outputs": [],
   "source": [],
   "metadata": {
    "collapsed": false
   },
   "id": "eea673001984d6f8"
  },
  {
   "cell_type": "markdown",
   "source": [
    "### Visualize\n",
    "\n",
    "&#128161; In the following cell, you will print the call graph with `graphviz`"
   ],
   "metadata": {
    "collapsed": false
   },
   "id": "f2755d5b65cbecf1"
  },
  {
   "cell_type": "code",
   "execution_count": null,
   "outputs": [],
   "source": [],
   "metadata": {
    "collapsed": false
   },
   "id": "a9de20cf4f0491c0"
  },
  {
   "cell_type": "markdown",
   "source": [
    "Before diving into the exercise, you have to understand why building individual CFGs for each function and then integrating them into a unified CFG is an important step in interprocedural analysis.\n",
    "\n",
    "### Why Build Individual CFGs for Each Function?\n",
    "\n",
    "1. **Granular Analysis**: Each function in a program can be thought of as an independent unit with its own control flow. By building CFGs for each function, you gain a detailed understanding of the control flow within these individual units.\n",
    "\n",
    "2. **Foundation for Interprocedural Analysis**: Understanding how control flows within each function is a prerequisite for analyzing how control flows across different functions - which is what interprocedural analysis is all about (otherwise we could not propagate data flow facts across functions).\n",
    "\n",
    "### Why Integrate into a Unified CFG?\n",
    "\n",
    "1. **Whole-Program Perspective**: While individual CFGs are great for understanding single functions, real-world programs involve multiple functions calling each other. A unified CFG provides a holistic view of how these function calls interact, which is important for understanding the entire program's behavior and propagate values accordingly.\n",
    "\n",
    "### Task for the Exercise\n",
    "\n",
    "With this background, your task is to first build individual CFGs for each function in the given code. Then, integrate these individual CFGs into one unified CFG.\n",
    " This unified CG is often called a \"super graph\" and will serve as a basis for the interprocedural analysis.\n",
    " \n",
    "In the following cell, implement a strategy to build the CFG of all functions in the program, do not forget the root function.\n",
    "Do not forget that you need to take care of edges. Some edges should disappear and new edges should appear.\n",
    "Indeed, when there is a call, an edge to the function called CFG should appear, hence the edge to the next statement should disappear.\n",
    "Also, edges from the end of the callee to the next statement of the caller should appear."
   ],
   "metadata": {
    "collapsed": false
   },
   "id": "fd349201a849a702"
  },
  {
   "cell_type": "code",
   "execution_count": null,
   "outputs": [],
   "source": [],
   "metadata": {
    "collapsed": false
   },
   "id": "54cf66cd098224cc"
  },
  {
   "cell_type": "markdown",
   "source": [
    "&#128161; Let's focus on building the unified CFG first, setting aside the call graph for the moment to simplify the approach."
   ],
   "metadata": {
    "collapsed": false
   },
   "id": "1952c2ebc80a7d8c"
  },
  {
   "cell_type": "code",
   "execution_count": null,
   "outputs": [],
   "source": [],
   "metadata": {
    "collapsed": false
   },
   "id": "c76070004e5a113d"
  },
  {
   "cell_type": "markdown",
   "source": [
    "&#128161; In the following cell, test your code and display the super graph."
   ],
   "metadata": {
    "collapsed": false
   },
   "id": "38ed55f07c7c9653"
  },
  {
   "cell_type": "code",
   "execution_count": null,
   "outputs": [],
   "source": [],
   "metadata": {
    "collapsed": false
   },
   "id": "20610c540e94134f"
  },
  {
   "cell_type": "markdown",
   "source": [
    "You might see a cycle, this is normal.\n",
    "\n",
    "Now let us apply the taint analysis on the super graph and see what happens? reuse the code from previous lab"
   ],
   "metadata": {
    "collapsed": false
   },
   "id": "da5f76255ed7ad4e"
  },
  {
   "cell_type": "code",
   "execution_count": null,
   "outputs": [],
   "source": [
    "class DataFlowAnalysis(ABC):\n",
    "    \"\"\"\n",
    "    Abstract Base Class for data flow analysis on a Control Flow Graph (CFG).\n",
    "\n",
    "    Attributes:\n",
    "        cfg: Control Flow Graph on which to perform the analysis.\n",
    "        in_sets: Dictionary to store 'in' sets for each node.\n",
    "        out_sets: Dictionary to store 'out' sets for each node.\n",
    "    \"\"\"\n",
    "\n",
    "    def __init__(self, cfg):\n",
    "        \"\"\"\n",
    "        Initialize the DataFlowAnalysis class.\n",
    "\n",
    "        Parameters:\n",
    "            cfg: Control Flow Graph on which to perform the analysis.\n",
    "        \"\"\"\n",
    "\n",
    "        self.cfg = cfg\n",
    "        self.in_sets = {node: set() for node in cfg.nodes}\n",
    "        self.out_sets = {node: set() for node in cfg.nodes}\n",
    "\n",
    "    def analyze(self):\n",
    "        \"\"\"\n",
    "        Core algorithm for data flow analysis, common to all types of analyses.\n",
    "        \n",
    "        Updates the in_sets and out_sets attributes based on the implemented get_gen and get_kill methods.\n",
    "        \"\"\"\n",
    "\n",
    "        first_id = 1\n",
    "        worklist = [self.cfg.nodes[first_id]]\n",
    "        visited = set()\n",
    "\n",
    "        while worklist:\n",
    "            node = worklist.pop(0)\n",
    "            visited.add(node)\n",
    "\n",
    "            # In[node] = Union of Out[predecessors]\n",
    "            in_set = set().union(\n",
    "                *[self.out_sets[pred] for pred, succ in self.cfg.edges if succ == node]\n",
    "            )\n",
    "            self.in_sets[node] = in_set\n",
    "\n",
    "            # Out[node] = gen U (In[node] - kill)\n",
    "            gen = self.get_gen(node)\n",
    "            kill = self.get_kill(gen, in_set, node)\n",
    "            out_set = gen.union(in_set - kill)\n",
    "            self.out_sets[node] = out_set\n",
    "\n",
    "            successors = {succ for pred, succ in self.cfg.edges if pred == node}\n",
    "            worklist.extend(succ for succ in successors if succ not in visited)\n",
    "\n",
    "    @abstractmethod\n",
    "    def get_gen(self, node):\n",
    "        \"\"\"\n",
    "        Abstract method to get the 'gen' set.\n",
    "        \n",
    "        Must be implemented by subclass.\n",
    "\n",
    "        Returns:\n",
    "            The 'gen' set.\n",
    "        \"\"\"\n",
    "        pass\n",
    "\n",
    "    @abstractmethod\n",
    "    def get_kill(self, gen, in_set, node):\n",
    "        \"\"\"\n",
    "        Abstract method to get the 'kill' set.\n",
    "        \n",
    "        Must be implemented by subclass.\n",
    "\n",
    "        Parameters:\n",
    "            gen: The 'gen' set.\n",
    "            in_set: The 'in' set for a node.\n",
    "            node: the node under analysis\n",
    "\n",
    "        Returns:\n",
    "            The 'kill' set.\n",
    "        \"\"\"\n",
    "        pass"
   ],
   "metadata": {
    "collapsed": false
   },
   "id": "86a7d3b43c02ad19"
  },
  {
   "cell_type": "code",
   "execution_count": null,
   "outputs": [],
   "source": [
    "class TaintAnalysis(DataFlowAnalysis, ABC):\n",
    "    \n",
    "    def __init__(self, cfg, sources, sinks):\n",
    "        super().__init__(cfg)\n",
    "        self.sources = sources\n",
    "        self.sinks = sinks"
   ],
   "metadata": {
    "collapsed": false
   },
   "id": "5456a3e03d162b7f"
  },
  {
   "cell_type": "code",
   "execution_count": null,
   "outputs": [],
   "source": [],
   "metadata": {
    "collapsed": false
   },
   "id": "eaf36070d145afe0"
  },
  {
   "cell_type": "markdown",
   "source": [
    "&#128161; In the following, apply the taint analysis with `get_password` as a source and `leak_sensitive_data` as a sink."
   ],
   "metadata": {
    "collapsed": false
   },
   "id": "3d422a973b3bb973"
  },
  {
   "cell_type": "code",
   "execution_count": null,
   "outputs": [],
   "source": [
    "sources = set()\n",
    "sources.add(\"get_password\")\n",
    "sinks = set()\n",
    "sinks.add(\"leak_sensitive_data\")\n",
    "ta = TaintAnalysis(super_graph, sources, sinks)\n",
    "ta.analyze()\n",
    "check_leak(super_graph.nodes)"
   ],
   "metadata": {
    "collapsed": false
   },
   "id": "35cf44abea880f8c"
  },
  {
   "cell_type": "markdown",
   "source": [
    "&#128161; It should not work.\n",
    "\n",
    "Indeed, in the new CFG, only variable `a` holds a tainted value, not `data` yet since the initial context is not the same.\n",
    "It means we need additional steps to make our taint analysis work.\n",
    "This is achieved through parameter mapping, there are several ways, from simple to more complex. \n",
    "You are free to implement your own way in the following cells, you can update your previous code or produce a new piece of code.\n",
    "It is not optimal, but for simplicity you are allowed to use variable names for the mapping."
   ],
   "metadata": {
    "collapsed": false
   },
   "id": "ea202f24a285d549"
  },
  {
   "cell_type": "code",
   "execution_count": null,
   "outputs": [],
   "source": [],
   "metadata": {
    "collapsed": false
   },
   "id": "1289456249fe7851"
  },
  {
   "cell_type": "code",
   "execution_count": null,
   "outputs": [],
   "source": [],
   "metadata": {
    "collapsed": false
   },
   "id": "c0b84b015f23db11"
  },
  {
   "cell_type": "code",
   "execution_count": null,
   "outputs": [],
   "source": [],
   "metadata": {
    "collapsed": false
   },
   "id": "c6cb366c18b720f3"
  },
  {
   "cell_type": "markdown",
   "source": [
    "&#128161; In the following cell, you should re-create the super-graph and have a mapping between variables."
   ],
   "metadata": {
    "collapsed": false
   },
   "id": "6abb9143e6de019b"
  },
  {
   "cell_type": "code",
   "execution_count": null,
   "outputs": [],
   "source": [],
   "metadata": {
    "collapsed": false
   },
   "id": "cef0327791cbb401"
  },
  {
   "cell_type": "markdown",
   "source": [
    "To what variable should `data` be mapped to?\n",
    "In your mapping, to what is `data` mapped to?"
   ],
   "metadata": {
    "collapsed": false
   },
   "id": "5ab660762a6d21"
  },
  {
   "cell_type": "markdown",
   "source": [
    "&#128161; In the following cells, you will re-run the taint analysis on your super graph.\n",
    "Do not hesitate to update the previous taint analysis code to take into account your mapping and propagate data flow facts accordingly."
   ],
   "metadata": {
    "collapsed": false
   },
   "id": "b4ab311d5e94a42e"
  },
  {
   "cell_type": "code",
   "execution_count": null,
   "outputs": [],
   "source": [
    "class TaintAnalysis(DataFlowAnalysis, ABC):\n",
    "    \n",
    "    def __init__(self, cfg, sources, sinks, mapping):\n",
    "        super().__init__(cfg)\n",
    "        self.sources = sources\n",
    "        self.sinks = sinks\n",
    "        self.mapping = mapping"
   ],
   "metadata": {
    "collapsed": false
   },
   "id": "16480dfb49a18c31"
  },
  {
   "cell_type": "code",
   "execution_count": null,
   "outputs": [],
   "source": [
    "sources = set()\n",
    "sources.add(\"get_password\")\n",
    "sinks = set()\n",
    "sinks.add(\"leak_sensitive_data\")\n",
    "ta = TaintAnalysis(super_graph, sources, sinks, mapping)\n",
    "ta.analyze()\n",
    "check_leak(super_graph.nodes)"
   ],
   "metadata": {
    "collapsed": false
   },
   "id": "b202e8eae749287f"
  },
  {
   "cell_type": "markdown",
   "source": [
    "How many leaks does your analysis return?\n",
    "\n",
    "If the answer is 1, you might want to update the `check_leak` function to take both leaks into account:"
   ],
   "metadata": {
    "collapsed": false
   },
   "id": "79f6c6e5826fb1eb"
  },
  {
   "cell_type": "code",
   "execution_count": null,
   "outputs": [],
   "source": [],
   "metadata": {
    "collapsed": false
   },
   "id": "e48869087168e6d0"
  },
  {
   "cell_type": "markdown",
   "source": [
    "Redo the taint analysis:"
   ],
   "metadata": {
    "collapsed": false
   },
   "id": "573e5a7b9b2a957a"
  },
  {
   "cell_type": "code",
   "execution_count": null,
   "outputs": [],
   "source": [
    "sources = set()\n",
    "sources.add(\"get_password\")\n",
    "sinks = set()\n",
    "sinks.add(\"leak_sensitive_data\")\n",
    "ta = TaintAnalysis(super_graph, sources, sinks, mapping)\n",
    "ta.analyze()\n",
    "check_leak(super_graph.nodes)"
   ],
   "metadata": {
    "collapsed": false
   },
   "id": "8e09ddd3a497ffcb"
  },
  {
   "cell_type": "markdown",
   "source": [
    "Good ! But the solution is not perfect, in reality we would not deal with variable names, we would have dedicated objects in memory for each independant variable, etc.\n",
    "\n",
    "in reality it is more complicated than that, we would have to handle returned values otherwise the taint could not be propagated correctly.\n",
    "\n",
    "For instance, consider the following example:\n",
    "\n",
    "```python\n",
    "def get():\n",
    "    return get_password()\n",
    "\n",
    "a = get()\n",
    "```\n",
    "\n",
    "In this example, `a` should be tainted, though with our current analysis it will not be tainted since we did not handle return values.\n",
    "\n",
    "Also, if you test your example with more complicated code, chances are that it does not work anymore since, as already said, in reality code are way more complex and hanlding it statically to model everything would take months, or years.\n",
    "\n",
    "Our goal is not to develop full-fledge static analyses but to showcase basic stuff."
   ],
   "metadata": {
    "collapsed": false
   },
   "id": "ec6ae9b1c02a5e0d"
  },
  {
   "cell_type": "markdown",
   "source": [
    "### &#10067; Questions\n",
    "\n",
    "Was the call graph useful in our example?\n",
    "\n",
    "In what case would the call graph be useful?\n",
    "\n",
    "How would you change the implementation of the interprocedural analysis to use the call graph?\n",
    "\n",
    "How would you handle the case cited above? How would you handle return values?"
   ],
   "metadata": {
    "collapsed": false
   },
   "id": "8e751e38e831e6ab"
  },
  {
   "cell_type": "markdown",
   "source": [
    "&#128161; Propose a modification of your code that would rely on the call graph to connect the dots with calls to methods on objects."
   ],
   "metadata": {
    "collapsed": false
   },
   "id": "ed9c2e2afa643ffe"
  },
  {
   "cell_type": "markdown",
   "source": [
    "&#128161; In the following cell, you will display, with `graphviz` the latest super graph in memory"
   ],
   "metadata": {
    "collapsed": false
   },
   "id": "b6f264802da0028b"
  },
  {
   "cell_type": "code",
   "execution_count": null,
   "outputs": [],
   "source": [],
   "metadata": {
    "collapsed": false
   },
   "id": "60902272ac0255e3"
  },
  {
   "cell_type": "markdown",
   "source": [
    "Notice the path that is impossible at execution time? \n",
    "There is an infeasible path: from the code in `bridge` (second call) to the code that is executed right after the first call to bridge. This is a well-known problem in static analysis, known as a context-sensitivity problem.\n",
    "Indeed, since we are propagating data flow facts through edges and we are iterating through edges, how could we decide that we need to go back to a particular statement?\n",
    "\n",
    "Any idea? What would be your strategy? "
   ],
   "metadata": {
    "collapsed": false
   },
   "id": "9332aa0749ccf47"
  }
 ],
 "metadata": {
  "kernelspec": {
   "display_name": "Python 3 (ipykernel)",
   "language": "python",
   "name": "python3"
  },
  "language_info": {
   "codemirror_mode": {
    "name": "ipython",
    "version": 3
   },
   "file_extension": ".py",
   "mimetype": "text/x-python",
   "name": "python",
   "nbconvert_exporter": "python",
   "pygments_lexer": "ipython3",
   "version": "3.9.6"
  }
 },
 "nbformat": 4,
 "nbformat_minor": 5
}
